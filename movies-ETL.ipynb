version https://git-lfs.github.com/spec/v1
oid sha256:38a2d76ed31a11b440a92b2ab64642b24ef60e4c684a8ef96270954809626a54
size 360411
